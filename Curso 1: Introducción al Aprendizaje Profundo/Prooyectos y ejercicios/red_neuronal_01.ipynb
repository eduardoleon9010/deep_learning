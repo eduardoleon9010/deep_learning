{
 "cells": [
  {
   "cell_type": "markdown",
   "id": "ee4b8bb5-5bfb-4160-80eb-4694934f19a1",
   "metadata": {},
   "source": [
    "# Funcionamiento de una Neurona en una Red Neuronal\n",
    "\n",
    "### Introducción\n",
    "\n",
    "En este cuaderno de Jupyter, exploraremos el funcionamiento básico de una neurona en una red neuronal. Las redes neuronales son modelos matemáticos inspirados en la estructura y funcionamiento del cerebro humano. Estas redes son la base de muchos algoritmos de aprendizaje profundo y se utilizan en una variedad de aplicaciones, como el reconocimiento de imágenes, la traducción automática y la predicción de series temporales.\n",
    "\n",
    "Una neurona en una red neuronal recibe múltiples entradas, cada una con un peso asociado, y calcula una suma ponderada de estas entradas. Esta suma ponderada se pasa a través de una función de activación que introduce no linealidades en el modelo, lo que permite a la red aprender patrones más complejos en los datos.\n",
    "\n",
    "### Objetivos\n",
    "\n",
    "- Entender el proceso de cálculo de la suma ponderada en una neurona.\n",
    "- Conocer el papel de la función de activación en una neurona.\n",
    "- Visualizar el flujo de datos a través de una neurona utilizando diagramas.\n",
    "- Implementar un ejemplo práctico en Python que ilustre el funcionamiento de una neurona con entradas, pesos y una función de activación.\n",
    "\n",
    "#### Procedimientos\n",
    "\n",
    "1. Importar Bibliotecas\n",
    "- matplotlib.pyplot se utiliza para crear el diagrama visual.\n",
    "\n",
    "2. Definir entradas y pesos:\n",
    "Las entradas y pesos se definen en listas. El sesgo también se define como una variable separada.\n",
    "\n",
    "3. Calcular la suma ponderada:\n",
    "Se calcula la suma ponderada multiplicando cada entrada por su peso correspondiente y sumando el sesgo.\n",
    "\n",
    "4. Función de activación ReLU:\n",
    "Se define una función ReLU que devuelve el máximo entre 0 y la entrada.\n",
    "\n",
    "5. Aplicar la función de activación:\n",
    "La suma ponderada se pasa a través de la función ReLU para obtener la salida.\n",
    "\n",
    "6. Crear el diagrama:\n",
    "Se utiliza matplotlib para crear un diagrama que ilustra las conexiones y las operaciones matemáticas de la neurona.\n",
    "\n",
    "7. Mostrar y Ocultar Ejes:\n",
    "Se configura el diagrama para ocultar los ejes y se muestra el diagrama.\n",
    "\n",
    "8. Imprimir Resultados:\n",
    "Los resultados de las entradas, pesos, sesgo, suma ponderada y salida se imprimen en la consola para una referencia adicional.\n",
    "\n",
    "### Autor:\n",
    "*Ing. Leon, E*\n"
   ]
  },
  {
   "cell_type": "code",
   "execution_count": 1,
   "id": "c6535432-e785-4d6f-8be3-dbe9204efc02",
   "metadata": {},
   "outputs": [
    {
     "data": {
      "image/png": "[encoded data removed]",
      "text/plain": [
       "<Figure size 640x480 with 1 Axes>"
      ]
     },
     "metadata": {},
     "output_type": "display_data"
    },
    {
     "name": "stdout",
     "output_type": "stream",
     "text": [
      "Entradas: [1.0, 2.0, 3.0]\n",
      "Pesos: [0.2, 0.3, 0.4]\n",
      "Sesgo: 0.5\n",
      "Suma ponderada: 2.50\n",
      "Salida de la función ReLU: 2.5\n"
     ]
    }
   ],
   "source": [
    "# Importar las bibliotecas necesarias\n",
    "import matplotlib.pyplot as plt\n",
    "\n",
    "# Definir los valores de entrada y pesos\n",
    "inputs = [1.0, 2.0, 3.0]  # Entradas (x1, x2, x3)\n",
    "weights = [0.2, 0.3, 0.4]  # Pesos (w1, w2, w3)\n",
    "bias = 0.5  # Sesgo (b)\n",
    "\n",
    "# Calcular la suma ponderada\n",
    "weighted_sum = sum(x * w for x, w in zip(inputs, weights)) + bias\n",
    "\n",
    "# Definir la función de activación ReLU\n",
    "def relu(x):\n",
    "    return max(0, x)\n",
    "\n",
    "# Aplicar la función de activación ReLU\n",
    "output = relu(weighted_sum)\n",
    "\n",
    "# Crear el diagrama\n",
    "fig, ax = plt.subplots()\n",
    "\n",
    "# Capa de entrada\n",
    "for i, (input_val, weight) in enumerate(zip(inputs, weights), 1):\n",
    "    ax.text(0, i, f\"x{i} = {input_val}\", fontsize=12, ha='center')\n",
    "    ax.arrow(0.1, i, 0.3, 0, head_width=0.05, head_length=0.05, fc='blue', ec='blue')\n",
    "    ax.text(0.6, i, f\"w{i} = {weight}\", fontsize=12, ha='center')\n",
    "\n",
    "# Suma ponderada\n",
    "ax.text(1.2, 2, f\"Suma ponderada (Σ) = {weighted_sum:.2f}\", fontsize=12, ha='center')\n",
    "ax.arrow(1.4, 2, 0.3, 0, head_width=0.05, head_length=0.05, fc='blue', ec='blue')\n",
    "\n",
    "# Función de activación\n",
    "ax.text(2.0, 2, f\"ReLU({weighted_sum:.2f}) = {output}\", fontsize=12, ha='center')\n",
    "\n",
    "# Salida\n",
    "ax.arrow(2.4, 2, 0.3, 0, head_width=0.05, head_length=0.05, fc='blue', ec='blue')\n",
    "ax.text(3.0, 2, f\"Salida = {output}\", fontsize=12, ha='center')\n",
    "\n",
    "# Ocultar ejes\n",
    "ax.axis('off')\n",
    "\n",
    "# Mostrar el diagrama\n",
    "plt.show()\n",
    "\n",
    "# Imprimir resultados en la consola\n",
    "print(f\"Entradas: {inputs}\")\n",
    "print(f\"Pesos: {weights}\")\n",
    "print(f\"Sesgo: {bias}\")\n",
    "print(f\"Suma ponderada: {weighted_sum:.2f}\")\n",
    "print(f\"Salida de la función ReLU: {output}\")\n"
   ]
  },
  {
   "cell_type": "markdown",
   "id": "deb9eaf9-3eed-4ced-9fea-65980b666b22",
   "metadata": {},
   "source": [
    "**Conclusión**\n",
    "\n",
    "Las redes neuronales representan una poderosa herramienta computacional, inspirada en el funcionamiento del cerebro humano, que ha revolucionado el campo de la inteligencia artificial y el aprendizaje automático. Compuestas por neuronas artificiales organizadas en capas, estas redes son capaces de aprender y realizar tareas complejas como clasificación, reconocimiento de patrones y predicción, a través de un proceso de entrenamiento sofisticado.\n",
    "\n",
    "La estructura de una red neuronal, con capas de entrada, ocultas y de salida, permite el procesamiento profundo y la transformación de los datos de entrada en salidas útiles y precisas. El funcionamiento interno de una neurona, incluyendo la ponderación de las entradas, la aplicación de funciones de activación no lineales y la propagación de las salidas, es fundamental para la capacidad de la red de capturar relaciones complejas en los datos.\n",
    "\n",
    "El proceso de entrenamiento de una red neuronal, que involucra la propagación hacia adelante, la evaluación de la función de pérdida y la retropropagación de errores, permite la optimización de los pesos de la red para mejorar continuamente su precisión. A través del entrenamiento, validación y prueba, las redes neuronales pueden generalizar su conocimiento y aplicarlo a nuevos datos, demostrando su capacidad para resolver problemas de manera efectiva.\n",
    "\n",
    "Las aplicaciones de las redes neuronales son vastas y variadas, abarcando desde el reconocimiento de imágenes y el procesamiento del lenguaje natural, hasta predicciones financieras y diagnósticos médicos. Su eficacia en la resolución de problemas complejos en múltiples dominios subraya su importancia en el desarrollo de tecnologías avanzadas y soluciones innovadoras."
   ]
  },
  {
   "cell_type": "code",
   "execution_count": null,
   "id": "70448776-f239-4829-b407-2da912a0ac5d",
   "metadata": {},
   "outputs": [],
   "source": []
  }
 ],
 "metadata": {
  "kernelspec": {
   "display_name": "Python 3 (ipykernel)",
   "language": "python",
   "name": "python3"
  },
  "language_info": {
   "codemirror_mode": {
    "name": "ipython",
    "version": 3
   },
   "file_extension": ".py",
   "mimetype": "text/x-python",
   "name": "python",
   "nbconvert_exporter": "python",
   "pygments_lexer": "ipython3",
   "version": "3.11.8"
  }
 },
 "nbformat": 4,
 "nbformat_minor": 5
}
